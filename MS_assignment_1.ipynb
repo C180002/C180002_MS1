{
  "cells": [
    {
      "metadata": {
        "collapsed": true
      },
      "cell_type": "markdown",
      "source": "## 数理統計学(2019)　課題1\n\n### このnotebookには、いくつかの課題が記載されています。\n### 先頭から順番に、指示に従ってPython Codeをcellに記述してください。\n### codeを記述するcellは、各自適切に生成してください。\n\n### 課題提出方法\n#### 各自のGitHubに、学籍番号_MS1（たとえば、C180001_MS1)という名称のrepositoryを作成してください。\n#### このnotebookを各自のGitHubのリポジトリ（学籍番号_MS1)へコピーしてください。\n#### 各自のGitHubのリポジトリをoffice 365のメールアカウントを使用して、sugimura@ccg.ac.jpへ送信してください。メールの件名は、学籍番号_MS1としてください。\n##### 【重要】指定された方法で課題を提出することも課題に含まれています。"
    },
    {
      "metadata": {},
      "cell_type": "markdown",
      "source": "#### 第1問：Pythonにおいて数値計算を行うためのモジュルnumpyをインポートし、numpy数値計算ライブラリを利用できるように設定してください。"
    },
    {
      "metadata": {},
      "cell_type": "markdown",
      "source": "#### 第2問：numpyのメソッドnumpy.random.normal(avg, std, n)は、平均がavg、標準偏差がstdである正規分布に従う乱数をn個発生させることができます。このメソッドを使用して、平均=60、標準偏差=15、個数=50である乱数からなるリストA1を発生させ、画面に表示させてください。\n"
    },
    {
      "metadata": {
        "trusted": true
      },
      "cell_type": "code",
      "source": "import numpy as nmp\n\nA1 = nmp.random.normal(60, 15, 50)\n\nprint(A1)",
      "execution_count": 2,
      "outputs": [
        {
          "output_type": "stream",
          "text": "[77.32043939 37.14627312 49.05063002 58.12634256 80.11668944 42.59379666\n 53.97886613 43.44810682 61.09557428 45.95354281 60.7642271  69.50206863\n 83.13314154 48.15127764 67.94297144 60.01582515 31.8638205  48.57562562\n 54.07003552 60.69033285 42.29782246 77.95165917 66.03422559 62.50669675\n 72.07069104 82.91919134 57.48913243 43.61010075 47.07542548 35.66135833\n 66.24374799 73.3903295  65.02741856 68.04331498 74.18750622 54.43080465\n 34.61836988 57.38795267 36.9481622  78.16132054 50.81863672 70.73942629\n 56.25527453 66.36372396 43.08057967 29.3315313  77.31405943 80.24977601\n 57.7440533  64.53389241]\n",
          "name": "stdout"
        }
      ]
    },
    {
      "metadata": {},
      "cell_type": "markdown",
      "source": "#### 第3問：第2問で発生させた乱数を整数に変換して、50個の整数のリストA2を発生させ、画面に表示させてください。\n#### Pythonのint関数は、データを整数へ変換することができます。xが実数であるとき、int(x)は、xを丸めた整数型の数値を返します。\n#### なお、リスト内包表記を用いると、コードを簡単化することができます。"
    },
    {
      "metadata": {
        "trusted": true
      },
      "cell_type": "code",
      "source": "A2 = []\n\nfor value in A1:\n    A2.append(int(value))\n    \nprint(A2)",
      "execution_count": 3,
      "outputs": [
        {
          "output_type": "stream",
          "text": "[77, 37, 49, 58, 80, 42, 53, 43, 61, 45, 60, 69, 83, 48, 67, 60, 31, 48, 54, 60, 42, 77, 66, 62, 72, 82, 57, 43, 47, 35, 66, 73, 65, 68, 74, 54, 34, 57, 36, 78, 50, 70, 56, 66, 43, 29, 77, 80, 57, 64]\n",
          "name": "stdout"
        }
      ]
    },
    {
      "metadata": {},
      "cell_type": "markdown",
      "source": "#### 第3問：以下の整数型リストB1の要素の平均値を計算して、画面に表示させてください。\n\n##### なお、平均値は、\n\n$$平均値　= \\frac{リスト中の要素の合計}{リスト中の要素の個数}$$\n\n##### によって計算してください。\n\nB1 = [80, 84, 41, 58, 87, 75, 61, 103, 52, 86, 91, 58, 53, 40, 56, 55, 57, 43, 60, 61, 61, 46, 99, 48, 58, \n      72, 52, 75, 71, 60, 54, 60, 64, 38, 56, 57, 78, 55, 53, 28, 67, 86, 75, 73, 82, 86, 65, 26, 59, 24]"
    },
    {
      "metadata": {
        "trusted": true
      },
      "cell_type": "code",
      "source": "B1 = [80, 84, 41, 58, 87, 75, 61, 103, 52, 86, 91, 58, 53, 40, 56, 55, 57, 43, 60, 61, 61, 46, 99, 48, 58, \n      72, 52, 75, 71, 60, 54, 60, 64, 38, 56, 57, 78, 55, 53, 28, 67, 86, 75, 73, 82, 86, 65, 26, 59, 24]\n\nelement_sum = 0\n\nfor value in B1:\n    element_sum += value\n    \nelement_count = len(B1)\n    \naverage = element_sum / element_count\n\nprint(average)",
      "execution_count": 8,
      "outputs": [
        {
          "output_type": "stream",
          "text": "62.58\n",
          "name": "stdout"
        }
      ]
    },
    {
      "metadata": {},
      "cell_type": "markdown",
      "source": "#### 第4問：整数型リストB1の要素の中の最大値を求めるコードを記述し、max(B1)の結果と一致することを確認してください。"
    },
    {
      "metadata": {
        "trusted": true
      },
      "cell_type": "code",
      "source": "max_value = 0\n\nfor value in B1:\n    if max_value < value:\n        max_value = value\n\n#print(max(B1))\nprint(max_value)",
      "execution_count": 14,
      "outputs": [
        {
          "output_type": "stream",
          "text": "103\n",
          "name": "stdout"
        }
      ]
    },
    {
      "metadata": {
        "trusted": true
      },
      "cell_type": "code",
      "source": "",
      "execution_count": null,
      "outputs": []
    }
  ],
  "metadata": {
    "kernelspec": {
      "name": "python36",
      "display_name": "Python 3.6",
      "language": "python"
    },
    "language_info": {
      "mimetype": "text/x-python",
      "nbconvert_exporter": "python",
      "name": "python",
      "pygments_lexer": "ipython3",
      "version": "3.6.6",
      "file_extension": ".py",
      "codemirror_mode": {
        "version": 3,
        "name": "ipython"
      }
    }
  },
  "nbformat": 4,
  "nbformat_minor": 2
}